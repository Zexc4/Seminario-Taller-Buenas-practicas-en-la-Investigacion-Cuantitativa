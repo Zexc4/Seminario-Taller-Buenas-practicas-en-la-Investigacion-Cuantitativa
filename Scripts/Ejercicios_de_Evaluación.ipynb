{
  "nbformat": 4,
  "nbformat_minor": 0,
  "metadata": {
    "colab": {
      "provenance": []
    },
    "kernelspec": {
      "name": "python3",
      "display_name": "Python 3"
    },
    "language_info": {
      "name": "python"
    }
  },
  "cells": [
    {
      "cell_type": "markdown",
      "source": [
        "# **🧩 1. Interpolación con Matriz de Vandermond**\n",
        "\n",
        "🎯 **Objetivo:**\n",
        "\n",
        "* Interpolar un polinomio de segundo grado que pase por tres puntos dados usando la matriz de Vandermonde.\n",
        "\n",
        "\n",
        "📌 **Instrucciones:**\n",
        "\n",
        "1. Define tres pares de puntos $(x_i, y_i)$\n",
        " que serán usados para construir el polinomio.\n",
        "\n",
        "2. Completa la línea de código que construye la matriz de Vandermonde con `np.vander(x, increasing=True)`.\n",
        "\n",
        "3. Usa `np.linalg.solve()` para resolver el sistema y obtener los coeficientes del polinomio.\n",
        "\n",
        "4. Evalúa el polinomio sobre un rango de valores `x_plot` usando los coeficientes obtenidos.\n",
        "\n",
        "5. Grafica el polinomio interpolado y los puntos originales.\n",
        "\n",
        "6. Agrega una breve interpretación: ¿cómo cambia la curva si modificas los puntos?\n",
        "\n",
        "\n",
        "⚡ **Resultado Esperado:**\n",
        "\n",
        "Un gráfico suave que pase exactamente por los tres puntos definidos."
      ],
      "metadata": {
        "id": "0NQcOcQhsyNE"
      }
    },
    {
      "cell_type": "markdown",
      "source": [
        "## 🧩**Ejercicio con Vandermonde**"
      ],
      "metadata": {
        "id": "IGlV2gc5s3sE"
      }
    },
    {
      "cell_type": "code",
      "execution_count": null,
      "metadata": {
        "id": "3WQH_WYlsoLT"
      },
      "outputs": [],
      "source": [
        "# Ejercicio con Código Incompleto — Vandermonde\n",
        "\n",
        "import numpy as np\n",
        "import matplotlib.pyplot as plt\n",
        "\n",
        "# 1. Ingresar manualmente tres puntos\n",
        "x = np.array([___, ___, ___])  # ← COMPLETA con los valores de x\n",
        "y = np.array([___, ___, ___])  # ← COMPLETA con los valores de y\n",
        "\n",
        "# 2. Crear matriz de Vandermonde con np.vander\n",
        "V = np.vander(x, increasing=True)\n",
        "\n",
        "# 3. Resolver el sistema V * a = y\n",
        "coefs = np.linalg.solve(___, ___)  # ← COMPLETA con los valores correctos\n",
        "\n",
        "print(\"Coeficientes del polinomio:\", coefs)\n",
        "\n",
        "# 4. Evaluar el polinomio\n",
        "x_plot = np.linspace(min(x)-1, max(x)+1, 100)\n",
        "y_plot = coefs[0] + coefs[1]*x_plot + coefs[2]*x_plot**2\n",
        "\n",
        "# 5. Graficar\n",
        "plt.plot(x_plot, y_plot, label='Interpolación')\n",
        "plt.scatter(x, y, color='red', label='Datos')\n",
        "plt.title(\"Interpolación con Matriz de Vandermonde\")\n",
        "plt.legend()\n",
        "plt.grid(True)\n",
        "plt.show()"
      ]
    },
    {
      "cell_type": "markdown",
      "source": [
        "\n",
        "\n",
        "---\n",
        "\n"
      ],
      "metadata": {
        "id": "Lqu11I4ys7A-"
      }
    },
    {
      "cell_type": "markdown",
      "source": [
        "# **🧮 2. Solución de una Ecuación Diferencial con Método de Euler**\n",
        "\n",
        "🎯 **Objetivo:**\n",
        "\n",
        "* Resolver numéricamente la EDO $\\frac{𝑑𝑦}{𝑑𝑡}=−2𝑦$ con condición inicial $y(0)=1$, utilizando el método de Euler.\n",
        "\n",
        "\n",
        "📌 **Instrucciones:**\n",
        "\n",
        "1. Define los parámetros iniciales: paso de integración `h`, número de pasos `n`, y condición inicial `y0 = 1`.\n",
        "\n",
        "2. Completa el ciclo que aplica el método de Euler:\n",
        "\n",
        "  * Usa la fórmula $y_{n+1}= y_n+h \\cdot f(y_n)$, donde $f(y)=−2y$.\n",
        "\n",
        "3. Calcula también la solución exacta $y(t)=e^{-2t}$  para comparar.\n",
        "\n",
        "4. Grafica ambas soluciones en el mismo gráfico.\n",
        "\n",
        "5. Comenta las diferencias observadas entre la solución numérica y la exacta. ¿Qué pasa si reduces el paso h?\n",
        "\n",
        "⚡ **Resultado Esperado:**\n",
        "\n",
        "Un gráfico con dos curvas: una con puntos (Euler) y una línea continua (exacta), que muestran la evolución decreciente de $y$."
      ],
      "metadata": {
        "id": "C2LArNUVs79q"
      }
    },
    {
      "cell_type": "markdown",
      "source": [
        "## **🧮 Ejercicio con EDO**"
      ],
      "metadata": {
        "id": "Jhs5XcXas8Gk"
      }
    },
    {
      "cell_type": "code",
      "source": [
        "# Completa el método de Euler para resolver dy/dt = -2y con y(0) = 1\n",
        "\n",
        "h = ___  # ← COMPLETA con el paso\n",
        "n = ___  # ← COMPLETA con la cantidad de pasos\n",
        "y0 = 1\n",
        "t0 = 0\n",
        "\n",
        "t_vals = [t0]\n",
        "y_vals = [y0]\n",
        "\n",
        "for i in range(n):\n",
        "    y_new = ___  # ← APLICA la fórmula de Euler: y_n+1 = y_n + f(y_n)*h\n",
        "    t_new = ___  # ← Incrementa el tiempo\n",
        "    y_vals.append(y_new)\n",
        "    t_vals.append(t_new)\n",
        "\n",
        "# Gráfico\n",
        "plt.plot(t_vals, y_vals, label=\"Euler\")\n",
        "plt.title(\"EDO: Método de Euler para dy/dt = -2y\")\n",
        "plt.grid(True)\n",
        "plt.show()\n"
      ],
      "metadata": {
        "id": "gFGl9aJLs8TX"
      },
      "execution_count": null,
      "outputs": []
    },
    {
      "cell_type": "markdown",
      "source": [
        "\n",
        "\n",
        "---\n",
        "\n"
      ],
      "metadata": {
        "id": "YSf9TSRltMxC"
      }
    },
    {
      "cell_type": "markdown",
      "source": [
        "# **🌱 3. Modelo Logístico de Crecimiento Poblacional**\n",
        "🎯 **Objetivo:**\n",
        "\n",
        "* Simular el crecimiento de una población bajo el modelo logístico con capacidad de carga limitada.\n",
        "\n",
        "📌 **Instrucciones:**\n",
        "\n",
        "1. Define los parámetros:\n",
        "\n",
        "  * `r`: tasa de crecimiento (ej. 0.5)\n",
        "\n",
        "  * `K`: capacidad máxima del ambiente (ej. 1000)\n",
        "\n",
        "  * `P0`: población inicial (ej. 100)\n",
        "\n",
        "  * `h`: paso del tiempo (ej. 0.1)\n",
        "\n",
        "  * `n`: número de iteraciones (ej. 100)\n",
        "\n",
        "2. Implementa el método de Euler con la ecuación: $P_{n+1}=P_n +h \\cdot r P_n \\left(1-\\frac{P_n}{k}\\right)$\n",
        "\n",
        "3. Grafica el crecimiento poblacional sobre el tiempo.\n",
        "\n",
        "4. Experimenta con diferentes valores de `r`, `K` y `P0`. ¿Cómo afectan la curva?\n",
        "\n",
        "⚡ **Resultado Esperado:**\n",
        "\n",
        "Una curva que crece rápido al inicio y luego se estabiliza al llegar a la capacidad de carga $K$.\n",
        "\n"
      ],
      "metadata": {
        "id": "0XkRDstTtBPS"
      }
    },
    {
      "cell_type": "markdown",
      "source": [
        "## 🌱 **Ejercicio con Modelo logístico de crecimiento poblacional**\n"
      ],
      "metadata": {
        "id": "4pw2FKcjtBvX"
      }
    },
    {
      "cell_type": "code",
      "source": [
        "# Modelo logístico de crecimiento poblacional: dP/dt = rP(1 - P/K)\n",
        "\n",
        "import matplotlib.pyplot as plt\n",
        "\n",
        "# Parámetros del modelo (completar)\n",
        "r = ___     # tasa de crecimiento (ej. 0.5)\n",
        "K = ___     # capacidad de carga (ej. 1000)\n",
        "P0 = ___    # población inicial (ej. 100)\n",
        "h = ___     # paso de tiempo (ej. 0.1)\n",
        "n = ___     # número de pasos (ej. 100)\n",
        "\n",
        "P_vals = [P0]\n",
        "t_vals = [0]\n",
        "\n",
        "# Método de Euler para resolver la EDO\n",
        "for i in range(n):\n",
        "    P = P_vals[-1]\n",
        "    dP = ___  # completa: r * P * (1 - P/K)\n",
        "    P_vals.append(P + dP * h)\n",
        "    t_vals.append(t_vals[-1] + h)\n",
        "\n",
        "# Gráfico del crecimiento poblacional\n",
        "plt.plot(t_vals, P_vals, label='Modelo logístico')\n",
        "plt.title(\"Crecimiento Poblacional (Modelo Logístico)\")\n",
        "plt.xlabel(\"Tiempo\")\n",
        "plt.ylabel(\"Población\")\n",
        "plt.grid(True)\n",
        "plt.legend()\n",
        "plt.show()"
      ],
      "metadata": {
        "id": "3ZvA9bWAtCEt"
      },
      "execution_count": null,
      "outputs": []
    },
    {
      "cell_type": "markdown",
      "source": [
        "\n",
        "\n",
        "---\n",
        "\n"
      ],
      "metadata": {
        "id": "qTeftcu6tCTr"
      }
    },
    {
      "cell_type": "markdown",
      "source": [
        "# **📊 4. Análisis de Componentes Principales (PCA)**\n",
        "\n",
        "🎯 **Objetivo:**\n",
        "\n",
        "* Reducir la dimensionalidad de un conjunto de datos utilizando PCA y visualizar los datos en dos dimensiones.\n",
        "\n",
        "📌 **Instrucciones:**\n",
        "\n",
        "1. Genera un conjunto de datos aleatorios de tamaño $(100,5)$ usando `np.random.rand()`.\n",
        "\n",
        "2. Aplica `PCA(n_components=2)` con `sklearn.decomposition.PCA` sobre el dataset.\n",
        "\n",
        "3. Completa la línea que imprime la varianza explicada por cada componente.\n",
        "\n",
        "4. Grafica los datos proyectados sobre los dos primeros componentes.\n",
        "\n",
        "5. Interpreta:\n",
        "\n",
        "  * ¿Qué proporción de la varianza retiene el PCA?\n",
        "\n",
        "  * ¿Qué observarías si aumentas o reduces el número de variables?\n",
        "\n",
        "⚡ **Resultado Esperado:**\n",
        "\n",
        "Un gráfico de dispersión en 2D donde cada punto representa un dato reducido a sus dos componentes principales."
      ],
      "metadata": {
        "id": "6xXFOrq7tCet"
      }
    },
    {
      "cell_type": "markdown",
      "source": [
        "## **📊 Ejercicio PCA (dataset + análisis)**"
      ],
      "metadata": {
        "id": "AumPZ3tFtYcO"
      }
    },
    {
      "cell_type": "code",
      "source": [
        "#Ejercicio PCA (dataset + análisis)\n",
        "\n",
        "from sklearn.decomposition import PCA\n",
        "import numpy as np\n",
        "import pandas as pd\n",
        "import matplotlib.pyplot as plt\n",
        "\n",
        "# Simular un dataset de 5 variables numéricas (completar)\n",
        "X = np.random.rand(___, ___) * 10  # ← COMPLETA con dimensiones (filas, columnas)\n",
        "\n",
        "# PCA con 2 componentes\n",
        "pca = PCA(n_components=2)\n",
        "X_pca = pca.fit_transform(X)\n",
        "\n",
        "# Mostrar varianza explicada\n",
        "print(\"Varianza explicada:\", ___)  # ← COMPLETA con pca.explained_variance_ratio_\n",
        "\n",
        "# Graficar componentes\n",
        "plt.scatter(X_pca[:, 0], X_pca[:, 1], c='blue')\n",
        "plt.title(\"PCA de Datos Simulados\")\n",
        "plt.xlabel(\"Componente 1\")\n",
        "plt.ylabel(\"Componente 2\")\n",
        "plt.grid(True)\n",
        "plt.show()"
      ],
      "metadata": {
        "id": "3mdX8GkftCqJ"
      },
      "execution_count": null,
      "outputs": []
    }
  ]
}