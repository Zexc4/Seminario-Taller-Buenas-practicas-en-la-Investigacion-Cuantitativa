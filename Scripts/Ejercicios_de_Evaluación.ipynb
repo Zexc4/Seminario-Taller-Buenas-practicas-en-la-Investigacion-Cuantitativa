{
  "nbformat": 4,
  "nbformat_minor": 0,
  "metadata": {
    "colab": {
      "provenance": []
    },
    "kernelspec": {
      "name": "python3",
      "display_name": "Python 3"
    },
    "language_info": {
      "name": "python"
    }
  },
  "cells": [
    {
      "cell_type": "markdown",
      "source": [
        "# **🧩 1. Interpolación con Matriz de Vandermond**\n",
        "\n",
        "🎯 **Objetivo:**\n",
        "\n",
        "* Interpolar un polinomio de segundo grado que pase por tres puntos dados usando la matriz de Vandermonde.\n",
        "\n",
        "\n",
        "📌 **Instrucciones:**\n",
        "\n",
        "1. Define tres pares de puntos $(x_i, y_i)$\n",
        " que serán usados para construir el polinomio.\n",
        "\n",
        "2. Completa la línea de código que construye la matriz de Vandermonde con `np.vander(x, increasing=True)`.\n",
        "\n",
        "3. Usa `np.linalg.solve()` para resolver el sistema y obtener los coeficientes del polinomio.\n",
        "\n",
        "4. Evalúa el polinomio sobre un rango de valores `x_plot` usando los coeficientes obtenidos.\n",
        "\n",
        "5. Grafica el polinomio interpolado y los puntos originales.\n",
        "\n",
        "6. Agrega una breve interpretación: ¿cómo cambia la curva si modificas los puntos?\n",
        "\n",
        "\n",
        "⚡ **Resultado Esperado:**\n",
        "\n",
        "Un gráfico suave que pase exactamente por los tres puntos definidos."
      ],
      "metadata": {
        "id": "0NQcOcQhsyNE"
      }
    },
    {
      "cell_type": "markdown",
      "source": [
        "## 🧩**Ejercicio con Vandermonde**"
      ],
      "metadata": {
        "id": "IGlV2gc5s3sE"
      }
    },
    {
      "cell_type": "code",
      "execution_count": null,
      "metadata": {
        "id": "3WQH_WYlsoLT"
      },
      "outputs": [],
      "source": [
        "# Ejercicio con Código Incompleto — Vandermonde\n",
        "\n",
        "import numpy as np\n",
        "import matplotlib.pyplot as plt\n",
        "\n",
        "# 1. Ingresar manualmente tres puntos\n",
        "x = np.array([___, ___, ___])  # ← COMPLETA con los valores de x\n",
        "y = np.array([___, ___, ___])  # ← COMPLETA con los valores de y\n",
        "\n",
        "# 2. Crear matriz de Vandermonde con np.vander\n",
        "V = np.vander(x, increasing=True)\n",
        "\n",
        "# 3. Resolver el sistema V * a = y\n",
        "coefs = np.linalg.solve(___, ___)  # ← COMPLETA con los valores correctos\n",
        "\n",
        "print(\"Coeficientes del polinomio:\", coefs)\n",
        "\n",
        "# 4. Evaluar el polinomio\n",
        "x_plot = np.linspace(min(x)-1, max(x)+1, 100)\n",
        "y_plot = coefs[0] + coefs[1]*x_plot + coefs[2]*x_plot**2\n",
        "\n",
        "# 5. Graficar\n",
        "plt.plot(x_plot, y_plot, label='Interpolación')\n",
        "plt.scatter(x, y, color='red', label='Datos')\n",
        "plt.title(\"Interpolación con Matriz de Vandermonde\")\n",
        "plt.legend()\n",
        "plt.grid(True)\n",
        "plt.show()"
      ]
    },
    {
      "cell_type": "markdown",
      "source": [
        "\n",
        "\n",
        "---\n",
        "\n"
      ],
      "metadata": {
        "id": "Lqu11I4ys7A-"
      }
    },
    {
      "cell_type": "markdown",
      "source": [
        "# **🧮 2. Solución de una Ecuación Diferencial con Método de Euler**\n",
        "\n",
        "🎯 **Objetivo:**\n",
        "\n",
        "* Resolver numéricamente la EDO $\\frac{𝑑𝑦}{𝑑𝑡}=−2𝑦$ con condición inicial $y(0)=1$, utilizando el método de Euler.\n",
        "\n",
        "\n",
        "📌 **Instrucciones:**\n",
        "\n",
        "1. Define los parámetros iniciales: paso de integración `h`, número de pasos `n`, y condición inicial `y0 = 1`.\n",
        "\n",
        "2. Completa el ciclo que aplica el método de Euler:\n",
        "\n",
        "  * Usa la fórmula $y_{n+1}= y_n+h \\cdot f(y_n)$, donde $f(y)=−2y$.\n",
        "\n",
        "3. Calcula también la solución exacta $y(t)=e^{-2t}$  para comparar.\n",
        "\n",
        "4. Grafica ambas soluciones en el mismo gráfico.\n",
        "\n",
        "5. Comenta las diferencias observadas entre la solución numérica y la exacta. ¿Qué pasa si reduces el paso h?\n",
        "\n",
        "⚡ **Resultado Esperado:**\n",
        "\n",
        "Un gráfico con dos curvas: una con puntos (Euler) y una línea continua (exacta), que muestran la evolución decreciente de $y$."
      ],
      "metadata": {
        "id": "C2LArNUVs79q"
      }
    },
    {
      "cell_type": "markdown",
      "source": [
        "## **🧮 Ejercicio con EDO**"
      ],
      "metadata": {
        "id": "Jhs5XcXas8Gk"
      }
    },
    {
      "cell_type": "code",
      "source": [
        "# Completa el método de Euler para resolver dy/dt = -2y con y(0) = 1\n",
        "\n",
        "h = ___  # ← COMPLETA con el paso\n",
        "n = ___  # ← COMPLETA con la cantidad de pasos\n",
        "y0 = 1\n",
        "t0 = 0\n",
        "\n",
        "t_vals = [t0]\n",
        "y_vals = [y0]\n",
        "\n",
        "for i in range(n):\n",
        "    y_new = ___  # ← APLICA la fórmula de Euler: y_n+1 = y_n + f(y_n)*h\n",
        "    t_new = ___  # ← Incrementa el tiempo\n",
        "    y_vals.append(y_new)\n",
        "    t_vals.append(t_new)\n",
        "\n",
        "# Gráfico\n",
        "plt.plot(t_vals, y_vals, label=\"Euler\")\n",
        "plt.title(\"EDO: Método de Euler para dy/dt = -2y\")\n",
        "plt.grid(True)\n",
        "plt.show()\n"
      ],
      "metadata": {
        "id": "gFGl9aJLs8TX"
      },
      "execution_count": null,
      "outputs": []
    },
    {
      "cell_type": "markdown",
      "source": [
        "\n",
        "\n",
        "---\n",
        "\n"
      ],
      "metadata": {
        "id": "YSf9TSRltMxC"
      }
    },
    {
      "cell_type": "markdown",
      "source": [
        "# **🌱 3. Modelo Logístico de Crecimiento Poblacional**\n",
        "🎯 **Objetivo:**\n",
        "\n",
        "* Simular el crecimiento de una población bajo el modelo logístico con capacidad de carga limitada.\n",
        "\n",
        "📌 **Instrucciones:**\n",
        "\n",
        "1. Define los parámetros:\n",
        "\n",
        "  * `r`: tasa de crecimiento (ej. 0.5)\n",
        "\n",
        "  * `K`: capacidad máxima del ambiente (ej. 1000)\n",
        "\n",
        "  * `P0`: población inicial (ej. 100)\n",
        "\n",
        "  * `h`: paso del tiempo (ej. 0.1)\n",
        "\n",
        "  * `n`: número de iteraciones (ej. 100)\n",
        "\n",
        "2. Implementa el método de Euler con la ecuación: $P_{n+1}=P_n +h \\cdot r P_n \\left(1-\\frac{P_n}{k}\\right)$\n",
        "\n",
        "3. Grafica el crecimiento poblacional sobre el tiempo.\n",
        "\n",
        "4. Experimenta con diferentes valores de `r`, `K` y `P0`. ¿Cómo afectan la curva?\n",
        "\n",
        "⚡ **Resultado Esperado:**\n",
        "\n",
        "Una curva que crece rápido al inicio y luego se estabiliza al llegar a la capacidad de carga $K$.\n",
        "\n"
      ],
      "metadata": {
        "id": "0XkRDstTtBPS"
      }
    },
    {
      "cell_type": "markdown",
      "source": [
        "## 🌱 **Ejercicio con Modelo logístico de crecimiento poblacional**\n"
      ],
      "metadata": {
        "id": "4pw2FKcjtBvX"
      }
    },
    {
      "cell_type": "code",
      "source": [
        "# Modelo logístico de crecimiento poblacional: dP/dt = rP(1 - P/K)\n",
        "\n",
        "import matplotlib.pyplot as plt\n",
        "\n",
        "# Parámetros del modelo (completar)\n",
        "r = ___     # tasa de crecimiento (ej. 0.5)\n",
        "K = ___     # capacidad de carga (ej. 1000)\n",
        "P0 = ___    # población inicial (ej. 100)\n",
        "h = ___     # paso de tiempo (ej. 0.1)\n",
        "n = ___     # número de pasos (ej. 100)\n",
        "\n",
        "P_vals = [P0]\n",
        "t_vals = [0]\n",
        "\n",
        "# Método de Euler para resolver la EDO\n",
        "for i in range(n):\n",
        "    P = P_vals[-1]\n",
        "    dP = ___  # completa: r * P * (1 - P/K)\n",
        "    P_vals.append(P + dP * h)\n",
        "    t_vals.append(t_vals[-1] + h)\n",
        "\n",
        "# Gráfico del crecimiento poblacional\n",
        "plt.plot(t_vals, P_vals, label='Modelo logístico')\n",
        "plt.title(\"Crecimiento Poblacional (Modelo Logístico)\")\n",
        "plt.xlabel(\"Tiempo\")\n",
        "plt.ylabel(\"Población\")\n",
        "plt.grid(True)\n",
        "plt.legend()\n",
        "plt.show()"
      ],
      "metadata": {
        "id": "3ZvA9bWAtCEt"
      },
      "execution_count": null,
      "outputs": []
    },
    {
      "cell_type": "markdown",
      "source": [
        "\n",
        "\n",
        "---\n",
        "\n"
      ],
      "metadata": {
        "id": "qTeftcu6tCTr"
      }
    },
    {
      "cell_type": "markdown",
      "source": [
        "# **📊 4. Análisis de Componentes Principales (PCA)**\n",
        "\n",
        "1.   List item\n",
        "2.   List item\n",
        "\n",
        "\n",
        "\n",
        "🎯 **Objetivo:**\n",
        "\n",
        "* Reducir la dimensionalidad de un conjunto de datos utilizando PCA y visualizar los datos en dos dimensiones.\n",
        "\n",
        "📌 **Instrucciones:**\n",
        "\n",
        "1. Genera un conjunto de datos aleatorios de tamaño $(100,5)$ usando `np.random.rand()`.\n",
        "\n",
        "2. Aplica `PCA(n_components=2)` con `sklearn.decomposition.PCA` sobre el dataset.\n",
        "\n",
        "3. Completa la línea que imprime la varianza explicada por cada componente.\n",
        "\n",
        "4. Grafica los datos proyectados sobre los dos primeros componentes.\n",
        "\n",
        "5. Interpreta:\n",
        "\n",
        "  * ¿Qué proporción de la varianza retiene el PCA?\n",
        "\n",
        "  * ¿Qué observarías si aumentas o reduces el número de variables?\n",
        "\n",
        "⚡ **Resultado Esperado:**\n",
        "\n",
        "Un gráfico de dispersión en 2D donde cada punto representa un dato reducido a sus dos componentes principales."
      ],
      "metadata": {
        "id": "6xXFOrq7tCet"
      }
    },
    {
      "cell_type": "markdown",
      "source": [
        "## **📊 Ejercicio PCA (dataset + análisis)**"
      ],
      "metadata": {
        "id": "AumPZ3tFtYcO"
      }
    },
    {
      "cell_type": "code",
      "source": [
        "#Ejercicio PCA (dataset + análisis)\n",
        "\n",
        "from sklearn.decomposition import PCA\n",
        "import numpy as np\n",
        "import pandas as pd\n",
        "import matplotlib.pyplot as plt\n",
        "\n",
        "# Simular un dataset de 5 variables numéricas (completar)\n",
        "X = np.random.rand(___, ___) * 10  # ← COMPLETA con dimensiones (filas, columnas)\n",
        "\n",
        "# PCA con 2 componentes\n",
        "pca = PCA(n_components=2)\n",
        "X_pca = pca.fit_transform(X)\n",
        "\n",
        "# Mostrar varianza explicada\n",
        "print(\"Varianza explicada:\", ___)  # ← COMPLETA con pca.explained_variance_ratio_\n",
        "\n",
        "# Graficar componentes\n",
        "plt.scatter(X_pca[:, 0], X_pca[:, 1], c='blue')\n",
        "plt.title(\"PCA de Datos Simulados\")\n",
        "plt.xlabel(\"Componente 1\")\n",
        "plt.ylabel(\"Componente 2\")\n",
        "plt.grid(True)\n",
        "plt.show()"
      ],
      "metadata": {
        "id": "3mdX8GkftCqJ"
      },
      "execution_count": null,
      "outputs": []
    },
    {
      "cell_type": "markdown",
      "source": [
        "# **5. Simulación Cuántica de Qubits con QuTiP**\n",
        "\n",
        "🎯 **Objetivo:**\n",
        "\n",
        "* Simular la evolución de un qubit bajo un Hamiltoniano de Pauli-X, incluyendo efectos de decoherencia con distintos operadores de Pauli.\n",
        "\n",
        "📌 **Instrucciones:**\n",
        "\n",
        "**1.  Instalar la librería QuTiP:** Si no tienes la librería instalada, puedes hacerlo utilizando el siguiente comando:\n",
        "\n",
        "> `pip install qutip`\n",
        "\n",
        "**2. Definir los parámetros iniciales:**\n",
        "* Hamiltoniano: Utiliza el operador `sigmax()` de QuTiP como Hamiltoniano.\n",
        "* Estado inicial: El qubit inicial debe estar en el estado $∣0⟩$ o $∣1⟩$.\n",
        "* Tiempo de simulación: Utiliza un tiempo máximo de simulación de 10 unidades de tiempo con 100 pasos.\n",
        "* Decoherencia: Implementa un operador de decoherencia con una tasa de $γ=0.1$.\n",
        "\n",
        "**3. Simular la evolución cuántica:**\n",
        "* Utiliza el método `mesolve()` de QuTiP para resolver la evolución del sistema, simulando la dinámica de un qubit bajo decoherencia.\n",
        "* Agrega operadores de decoherencia (por ejemplo, $𝜎_𝑥$, $𝜎_𝑦$, y $𝜎_𝑧$).\n",
        "\n",
        "**4. Comparación de resultados:**\n",
        "* Realiza tres simulaciones separadas para cada tipo de decoherencia: uno con decoherencia en $⟨𝜎_𝑥⟩$, otro con $⟨𝜎_𝑦⟩$, y otro con $⟨𝜎_𝑧⟩$.\n",
        "* Grafica las expectativas de $⟨𝜎_𝑥⟩$, $⟨𝜎_𝑦⟩$, y $⟨𝜎_𝑧⟩$ en función del tiempo.\n",
        "\n",
        "**5. Análisis adicional:**\n",
        "\n",
        "Realiza el análisis de la varianza explicada utilizando PCA (análisis de componentes principales) sobre las expectativas de los operadores\n",
        "$𝜎_𝑥$, $𝜎_𝑦$ ​y $𝜎_𝑧$.\n",
        "\n",
        "**⚡ Resultado Esperado:**\n",
        "\n",
        "Una serie de gráficas que muestran la evolución temporal de las expectativas de los operadores de Pauli ($𝜎_𝑥$, $𝜎_𝑦$, $𝜎_𝑧$) para tres simulaciones con diferentes tipos de decoherencia. La varianza explicada por PCA ayudará a evaluar cómo la decoherencia afecta la dinámica cuántica.\n",
        "\n"
      ],
      "metadata": {
        "id": "-DhL_d4Nm51C"
      }
    },
    {
      "cell_type": "code",
      "source": [
        "import numpy as np\n",
        "import qutip as qt\n",
        "import matplotlib.pyplot as plt\n",
        "from sklearn.decomposition import PCA\n",
        "\n",
        "# Parámetros iniciales\n",
        "H = qt.sigmax()  # Hamiltoniano de Pauli-X\n",
        "psi0 = qt.basis(2, 0)  # Estado inicial |0>\n",
        "t_max = 10  # Tiempo máximo de simulación\n",
        "n_steps = 100  # Número de pasos de tiempo\n",
        "\n",
        "# Tasa de decoherencia\n",
        "gamma = 0.1  # Tasa de desintegración\n",
        "\n",
        "# **Completar**: Definir los operadores de decoherencia\n",
        "c_ops_sigmax = [_____]  # ← Completar: operador de decoherencia en sigmax\n",
        "c_ops_sigmay = [_____]  # ← Completar: operador de decoherencia en sigmay\n",
        "c_ops_sigmaz = [_____]  # ← Completar: operador de decoherencia en sigmaz\n",
        "\n",
        "# Definir los tiempos de simulación\n",
        "t = np.linspace(0, t_max, n_steps)\n",
        "\n",
        "# **Simulaciones**: Simulaciones para tres tipos de decoherencia\n",
        "result_sigmax = qt.mesolve(H, psi0, t, c_ops_sigmax, [qt.sigmax(), qt.sigmay(), qt.sigmaz()])\n",
        "result_sigmay = qt.mesolve(H, psi0, t, c_ops_sigmay, [qt.sigmax(), qt.sigmay(), qt.sigmaz()])\n",
        "result_sigmaz = qt.mesolve(H, psi0, t, c_ops_sigmaz, [qt.sigmax(), qt.sigmay(), qt.sigmaz()])\n",
        "\n",
        "# **Completar**: Crear una función para calcular la varianza explicada de cada simulación\n",
        "def calcular_varianza_exp(*results):\n",
        "    variancias = []\n",
        "    for result in results:\n",
        "        # **Completar**: Obtener las expectativas de los operadores y apilarlas para PCA\n",
        "        data = np.vstack([_____, _____, _____]).T  # ← Completar las expectativas\n",
        "        pca = PCA(n_components=2)  # Reducir a 2 componentes\n",
        "        pca.fit(data)\n",
        "        variancias.append(pca.explained_variance_ratio_)\n",
        "    return variancias\n",
        "\n",
        "# **Completar**: Llamar a la función para calcular la varianza explicada\n",
        "varianza_exp = calcular_varianza_exp(result_sigmax, result_sigmay, result_sigmaz)\n",
        "\n",
        "# **Graficar las expectativas** de los operadores sigmax, sigmay y sigmaz\n",
        "plt.figure(figsize=(12, 8))\n",
        "\n",
        "# Gráfico para decoherencia en sigmax\n",
        "plt.subplot(2, 1, 1)\n",
        "plt.plot(t, result_sigmax.expect[____], label='<sigmax>', color='red')  # ← Completar índice\n",
        "plt.plot(t, result_sigmax.expect[____], label='<sigmay>', color='blue')  # ← Completar índice\n",
        "plt.plot(t, result_sigmax.expect[____], label='<sigmaz>', color='green')  # ← Completar índice\n",
        "plt.title(\"Evolución con Decoherencia en sigmax\")\n",
        "plt.xlabel('Tiempo')\n",
        "plt.ylabel('Expectativa')\n",
        "plt.legend()\n",
        "\n",
        "# Gráfico para decoherencia en sigmay\n",
        "plt.subplot(2, 1, 2)\n",
        "plt.plot(t, result_sigmay.expect[____], label='<sigmax>', color='red')  # ← Completar índice\n",
        "plt.plot(t, result_sigmay.expect[____], label='<sigmay>', color='blue')  # ← Completar índice\n",
        "plt.plot(t, result_sigmay.expect[____], label='<sigmaz>', color='green')  # ← Completar índice\n",
        "plt.title(\"Evolución con Decoherencia en sigmay\")\n",
        "plt.xlabel('Tiempo')\n",
        "plt.ylabel('Expectativa')\n",
        "plt.legend()\n",
        "\n",
        "plt.tight_layout()\n",
        "plt.grid(True)\n",
        "plt.show()\n",
        "\n",
        "# **Mostrar resultados de la varianza explicada para cada simulación**\n",
        "print(\"Varianza explicada por la PCA para decoherencia en sigmax:\", varianza_exp[0])\n",
        "print(\"Varianza explicada por la PCA para decoherencia en sigmay:\", varianza_exp[1])\n",
        "print(\"Varianza explicada por la PCA para decoherencia en sigmaz:\", varianza_exp[2])\n"
      ],
      "metadata": {
        "id": "pfHbEjqfm0vG"
      },
      "execution_count": null,
      "outputs": []
    }
  ]
}