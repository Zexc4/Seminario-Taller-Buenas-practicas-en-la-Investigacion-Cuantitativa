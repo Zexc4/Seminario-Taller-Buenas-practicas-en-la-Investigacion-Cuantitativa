{
  "nbformat": 4,
  "nbformat_minor": 0,
  "metadata": {
    "colab": {
      "provenance": []
    },
    "kernelspec": {
      "name": "python3",
      "display_name": "Python 3"
    },
    "language_info": {
      "name": "python"
    }
  },
  "cells": [
    {
      "cell_type": "markdown",
      "source": [
        "# **🧮 1. Simulaciones de Qubits con Retardo**\n",
        "\n",
        "🎯 **Objetivo:**\n",
        "\n",
        "* Comparar la dinámica de un qubit con y sin retardo usando un modelo de ecuaciones diferidas (DDE) y evaluar si hay diferencias significativas en los resultados mediante ANOVA.\n",
        "\n",
        "\n",
        "📌 **Instrucciones:**\n",
        "\n",
        "1. Instala y carga las librerías necesarias (`qutip`,` numpy`, `pandas`, `matplotlib`, etc.).\n",
        "2. Completa y verifica el modelo de retardo (`exact_dde_step`) usando los parámetros dados.\n",
        "3. Simula la dinámica de un qubit con retardo usando el esquema exacto.\n",
        "4. Simula la dinámica sin retardo usando `QuTiP` y el operador de Pauli $𝜎𝑧$.\n",
        "5. Prepara un DataFrame con los resultados para análisis estadístico.\n",
        "6. Realiza un ANOVA para comparar ambos casos.\n",
        "7. Grafica los resultados y analiza visualmente si hay diferencias relevantes.\n",
        "8. Interpreta los resultados de la tabla ANOVA: ¿existe una diferencia estadísticamente significativa entre ambas simulaciones?\n",
        "\n",
        "\n",
        "⚡ **Resultado Esperado:**\n",
        "\n",
        "* Un gráfico con dos curvas: una para la simulación con retardo y otra sin retardo.\n",
        "* Una tabla ANOVA que indique si hay diferencias significativas.\n",
        "* Una reflexión escrita sobre la comparación entre ambos métodos."
      ],
      "metadata": {
        "id": "6z27yUR7y9AO"
      }
    },
    {
      "cell_type": "markdown",
      "source": [
        "## **🧮 Ejercicio de Simulaciones de Qubits con Retardo**"
      ],
      "metadata": {
        "id": "4W3CSsQey_cE"
      }
    },
    {
      "cell_type": "code",
      "source": [
        "# 1. Instalar librerías necesarias\n",
        "# 💡 COMPLETAR\n",
        "# --------------------------------------\n",
        "# Escribe aquí el comando para instalar qutip:\n",
        "!pip install _______________\n",
        "\n",
        "# --------------------------------------\n",
        "import numpy as np\n",
        "import matplotlib.pyplot as plt\n",
        "import pandas as pd\n",
        "\n",
        "# 💡 COMPLETAR: importar qutip y statsmodels\n",
        "import ____________ as qt\n",
        "from ____________ import ols\n",
        "import ____________ as sm\n",
        "from scipy.integrate import quad\n",
        "from scipy.special import comb\n",
        "from math import factorial\n",
        "\n",
        "# 2. Parámetros del modelo\n",
        "alpha = -1.0\n",
        "beta = 0.5\n",
        "gamma = 0.75\n",
        "tau = 1.0\n",
        "h = tau / 10\n",
        "N = int(tau / h)\n",
        "t_max = 5 * tau\n",
        "n_steps = int(t_max / h)\n",
        "\n",
        "# 3. Funciones base del modelo\n",
        "def phi(t):\n",
        "    return (t + 1)**2\n",
        "\n",
        "def phi_prime(t):\n",
        "    return 2 * (t + 1)\n",
        "\n",
        "def F(s):\n",
        "    return gamma * phi_prime(s) + beta * phi(s)\n",
        "\n",
        "# 4. Esquema DDE exacto\n",
        "def exact_dde_step(x_prev, n, m):\n",
        "    # 💡 COMPLETAR: primer término\n",
        "    term1 = np.exp(________) * x_prev[n]\n",
        "\n",
        "    term2 = 0\n",
        "    for k in range(1, m):\n",
        "        for r in range(1, k+1):\n",
        "            binom = comb(k-1, r-1, exact=True)\n",
        "            term2 += (gamma**(k-r)) * ((beta + alpha * gamma)**r) * (h**r / factorial(r)) * binom * x_prev[n - k*N]\n",
        "\n",
        "    def integrand(s):\n",
        "        inner_sum = gamma**(m-1)\n",
        "        for k in range(1, m):\n",
        "            for r in range(1, k+1):\n",
        "                inner_sum += (gamma**(m-1-r)) * ((beta + alpha * gamma)**r) * (((n*h - m*tau + h - s)**r) / factorial(r))\n",
        "        return inner_sum * np.exp(alpha * (n*h - m*tau + h - s)) * F(s)\n",
        "\n",
        "    lower = n*h - m*tau\n",
        "    upper = lower + h\n",
        "    term3, _ = quad(integrand, lower, upper)\n",
        "\n",
        "    return term1 + term2 + term3\n",
        "\n",
        "# 5. Simulación con retardo\n",
        "t = np.linspace(-tau, t_max, n_steps + N + 1)\n",
        "x = np.zeros(len(t))\n",
        "\n",
        "# 💡 COMPLETAR: aplicar condición inicial\n",
        "for i in range(N+1):\n",
        "    x[i] = ___________\n",
        "\n",
        "# 💡 COMPLETAR: bucle de simulación DDE\n",
        "for n in range(n_steps):\n",
        "    m = int(np.floor((n*h)/tau) + 1)\n",
        "    x[n + N + 1] = _______________________\n",
        "\n",
        "# 6. Simulación sin retardo (QuTiP)\n",
        "# 💡 COMPLETAR: definir Hamiltoniano y estado inicial\n",
        "H = ___________\n",
        "psi0 = ___________\n",
        "\n",
        "# 💡 COMPLETAR: colapso y tiempo\n",
        "c_ops = [np.sqrt(-alpha) * qt.sigmaz()]\n",
        "t_qutip = t[t >= 0]\n",
        "\n",
        "# 💡 COMPLETAR: simulación sin retardo\n",
        "result_no_delay = qt.mesolve(H, psi0, t_qutip, c_ops=c_ops, e_ops=[qt.________()])\n",
        "sz_no_delay = result_no_delay.expect[0]\n",
        "\n",
        "# 7. Preparación para análisis ANOVA\n",
        "x_delay = x[N + 1:N + 1 + len(sz_no_delay)]\n",
        "min_len = min(len(x_delay), len(sz_no_delay), len(t_qutip))\n",
        "\n",
        "# 💡 Cortar longitudes para comparación justa\n",
        "x_delay = x_delay[:min_len]\n",
        "sz_no_delay = sz_no_delay[:min_len]\n",
        "t_qutip = t_qutip[:min_len]\n",
        "\n",
        "# 8. DataFrame y ANOVA\n",
        "# 💡 COMPLETAR\n",
        "data = pd.DataFrame({\n",
        "    'Tiempo': np.tile(t_qutip, 2),\n",
        "    'Valor': np.concatenate([__________, __________]),\n",
        "    'Grupo': ['Con Retardo'] * min_len + ['Sin Retardo'] * min_len\n",
        "})\n",
        "\n",
        "model = ols('Valor ~ C(Grupo)', data=data).fit()\n",
        "anova_table = sm.stats.anova_lm(model, typ=2)\n",
        "\n",
        "# 9. Visualización\n",
        "plt.figure(figsize=(10, 6))\n",
        "plt.plot(t_qutip, x_delay, label='Con Retardo (DDE)', color='blue')\n",
        "plt.plot(t_qutip, sz_no_delay, label='Sin Retardo (QuTiP)', color='red', linestyle='--')\n",
        "plt.xlabel('Tiempo')\n",
        "plt.ylabel('Expectativa ⟨σ_z⟩')\n",
        "plt.title('Simulación de Qubit: Con vs. Sin Retardo')\n",
        "plt.legend()\n",
        "plt.grid(True)\n",
        "plt.tight_layout()\n",
        "plt.show()\n",
        "\n",
        "# 10. Mostrar tabla ANOVA\n",
        "print(\"Tabla ANOVA:\\n\", anova_table)\n"
      ],
      "metadata": {
        "id": "v5WkyLiQy_9b"
      },
      "execution_count": null,
      "outputs": []
    },
    {
      "cell_type": "markdown",
      "source": [
        "\n",
        "\n",
        "---\n",
        "\n"
      ],
      "metadata": {
        "id": "GfsL_ORQ4ohi"
      }
    },
    {
      "cell_type": "markdown",
      "source": [
        "# **🧩 2. Interpolación con Matriz de Vandermond**\n",
        "\n",
        "🎯 **Objetivo:**\n",
        "\n",
        "* Interpolar un polinomio de segundo grado que pase por tres puntos dados usando la matriz de Vandermonde.\n",
        "\n",
        "\n",
        "📌 **Instrucciones:**\n",
        "\n",
        "1. Define tres pares de puntos $(𝑥_𝑖,𝑦_𝑖)$ que serán usados para construir el polinomio.\n",
        "2. Completa la línea de código que construye la matriz de Vandermonde:\n",
        "`V = np.vander(x, increasing=True)`\n",
        "3. Usa `np.linalg.solve()` para resolver el sistema lineal y obtener los coeficientes del polinomio.\n",
        "4. Evalúa el polinomio sobre un rango de valores `x_plot` usando los coeficientes obtenidos.\n",
        "5. Grafica el polinomio interpolado y los puntos originales.\n",
        "6. Agrega una breve interpretación: ¿cómo cambia la curva si modificas los puntos?\n",
        "\n",
        "\n",
        "⚡ **Resultado Esperado:**\n",
        "\n",
        "* Un gráfico suave que pase exactamente por los tres puntos definidos.\n",
        "* Visualización del polinomio y los puntos originales.\n",
        "* Una reflexión sobre la forma del polinomio."
      ],
      "metadata": {
        "id": "XOa-V5dAySRb"
      }
    },
    {
      "cell_type": "markdown",
      "source": [
        "📊 **Datos experimentales**\n",
        "\n",
        "| Tiempo (s) | Temperatura (°C) |\n",
        "| ---------- | ---------------- |\n",
        "| 0.0        | 22.0             |\n",
        "| 1.0        | 24.5             |\n",
        "| 2.0        | 29.0             |"
      ],
      "metadata": {
        "id": "7kpjN5Wu2rNI"
      }
    },
    {
      "cell_type": "markdown",
      "source": [
        "## 🧩**Ejercicio con Vandermonde**"
      ],
      "metadata": {
        "id": "I0DOnw3Uykho"
      }
    },
    {
      "cell_type": "code",
      "execution_count": null,
      "metadata": {
        "id": "p6jWuc0MyCSp"
      },
      "outputs": [],
      "source": [
        "# 💡 IMPORTAR LIBRERÍAS\n",
        "import _____________ as np\n",
        "import _____________ as plt\n",
        "\n",
        "# 1. Datos experimentales\n",
        "x = np.array([______, ______, ______])  # Variable Dependiente\n",
        "y = np.array([______, ______, ______])  # Variable Independiente\n",
        "\n",
        "# 2. Construcción de la matriz de Vandermonde\n",
        "V = np.vander(x, ____________)  # True o False según el orden\n",
        "\n",
        "# 3. Resolver sistema lineal\n",
        "a = np.linalg.solve(_________, _________)\n",
        "\n",
        "# 4. Mostrar coeficientes\n",
        "print(\"Coeficientes del polinomio interpolador:\")\n",
        "for i, coef in enumerate(a):\n",
        "    print(f\"a{i} = {coef:.4f}\")\n",
        "\n",
        "# 5. Definir función polinomial\n",
        "def P(t):\n",
        "    return sum(_____________ for i in range(len(a)))\n",
        "\n",
        "# 6. Evaluar y graficar\n",
        "t_vals = np.linspace(min(x), max(x), 100)\n",
        "y_vals = P(t_vals)\n",
        "\n",
        "plt.plot(t_vals, y_vals, label='Polinomio Interpolador')\n",
        "plt.plot(x, y, 'ro', label='Puntos Originales')\n",
        "plt.xlabel(_____________) # Variable Dependiente (Magnitus, Unidad)\n",
        "plt.ylabel(_____________) # Variable Independiente (Magnitus, Unidad)\n",
        "plt.title('Interpolación con Matriz de Vandermonde')\n",
        "plt.grid(True)\n",
        "plt.legend()\n",
        "plt.show()"
      ]
    }
  ]
}